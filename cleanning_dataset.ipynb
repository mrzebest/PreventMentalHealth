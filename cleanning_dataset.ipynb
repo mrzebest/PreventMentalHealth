{
  "nbformat": 4,
  "nbformat_minor": 0,
  "metadata": {
    "colab": {
      "provenance": []
    },
    "kernelspec": {
      "name": "python3",
      "display_name": "Python 3"
    },
    "language_info": {
      "name": "python"
    }
  },
  "cells": [
    {
      "cell_type": "code",
      "execution_count": 1,
      "metadata": {
        "id": "702pQHFhxRLq"
      },
      "outputs": [],
      "source": [
        "import pandas as pd"
      ]
    },
    {
      "cell_type": "code",
      "source": [
        "df = pd.read_csv(\"/content/reddit_filtered_results.csv\")\n",
        "\n",
        "df = df[\"title\"].rename(\"reddit_post\")\n",
        "\n",
        "df.to_csv(\"files/reddit_posts.csv\", index=False)\n",
        "\n",
        "df"
      ],
      "metadata": {
        "colab": {
          "base_uri": "https://localhost:8080/",
          "height": 458
        },
        "id": "wx_CkTSwxhTO",
        "outputId": "d00e17a7-b1be-41c4-aed5-ec0d8acc6739"
      },
      "execution_count": 12,
      "outputs": [
        {
          "output_type": "execute_result",
          "data": {
            "text/plain": [
              "0      Chronically depressed. Drawn to death but not ...\n",
              "1      How to cope with fiance's death? I just feel numb\n",
              "2            Thinking of ruining my sobriety and suicide\n",
              "3      I read my suicide notes and it sent me into a ...\n",
              "4      [TW: SELFHARM] Just got broken up with for my ...\n",
              "                             ...                        \n",
              "238    I was visibly sick from an overdose after a fa...\n",
              "239                               Help me help my friend\n",
              "240    Can burn out and sensory and mental overload c...\n",
              "241              Will a .22 air gun point blank kill me?\n",
              "242                                   Shutdown & Broken \n",
              "Name: reddit_post, Length: 243, dtype: object"
            ],
            "text/html": [
              "<div>\n",
              "<style scoped>\n",
              "    .dataframe tbody tr th:only-of-type {\n",
              "        vertical-align: middle;\n",
              "    }\n",
              "\n",
              "    .dataframe tbody tr th {\n",
              "        vertical-align: top;\n",
              "    }\n",
              "\n",
              "    .dataframe thead th {\n",
              "        text-align: right;\n",
              "    }\n",
              "</style>\n",
              "<table border=\"1\" class=\"dataframe\">\n",
              "  <thead>\n",
              "    <tr style=\"text-align: right;\">\n",
              "      <th></th>\n",
              "      <th>reddit_post</th>\n",
              "    </tr>\n",
              "  </thead>\n",
              "  <tbody>\n",
              "    <tr>\n",
              "      <th>0</th>\n",
              "      <td>Chronically depressed. Drawn to death but not ...</td>\n",
              "    </tr>\n",
              "    <tr>\n",
              "      <th>1</th>\n",
              "      <td>How to cope with fiance's death? I just feel numb</td>\n",
              "    </tr>\n",
              "    <tr>\n",
              "      <th>2</th>\n",
              "      <td>Thinking of ruining my sobriety and suicide</td>\n",
              "    </tr>\n",
              "    <tr>\n",
              "      <th>3</th>\n",
              "      <td>I read my suicide notes and it sent me into a ...</td>\n",
              "    </tr>\n",
              "    <tr>\n",
              "      <th>4</th>\n",
              "      <td>[TW: SELFHARM] Just got broken up with for my ...</td>\n",
              "    </tr>\n",
              "    <tr>\n",
              "      <th>...</th>\n",
              "      <td>...</td>\n",
              "    </tr>\n",
              "    <tr>\n",
              "      <th>238</th>\n",
              "      <td>I was visibly sick from an overdose after a fa...</td>\n",
              "    </tr>\n",
              "    <tr>\n",
              "      <th>239</th>\n",
              "      <td>Help me help my friend</td>\n",
              "    </tr>\n",
              "    <tr>\n",
              "      <th>240</th>\n",
              "      <td>Can burn out and sensory and mental overload c...</td>\n",
              "    </tr>\n",
              "    <tr>\n",
              "      <th>241</th>\n",
              "      <td>Will a .22 air gun point blank kill me?</td>\n",
              "    </tr>\n",
              "    <tr>\n",
              "      <th>242</th>\n",
              "      <td>Shutdown &amp; Broken</td>\n",
              "    </tr>\n",
              "  </tbody>\n",
              "</table>\n",
              "<p>243 rows × 1 columns</p>\n",
              "</div><br><label><b>dtype:</b> object</label>"
            ]
          },
          "metadata": {},
          "execution_count": 12
        }
      ]
    }
  ]
}