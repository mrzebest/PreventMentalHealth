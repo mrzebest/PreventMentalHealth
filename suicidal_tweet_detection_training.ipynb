{
  "nbformat": 4,
  "nbformat_minor": 0,
  "metadata": {
    "colab": {
      "provenance": []
    },
    "kernelspec": {
      "name": "python3",
      "display_name": "Python 3"
    },
    "language_info": {
      "name": "python"
    }
  },
  "cells": [
    {
      "cell_type": "code",
      "source": [
        "import polars as pl\n",
        "import numpy as np\n",
        "import matplotlib.pyplot as plt"
      ],
      "metadata": {
        "id": "6Pic81oSAiO7"
      },
      "execution_count": 409,
      "outputs": []
    },
    {
      "cell_type": "markdown",
      "source": [
        "# Data Acquisition"
      ],
      "metadata": {
        "id": "uIozZXYpwZ4J"
      }
    },
    {
      "cell_type": "code",
      "execution_count": 16,
      "metadata": {
        "id": "EeQpmXJVwSe1"
      },
      "outputs": [],
      "source": [
        "import kagglehub\n",
        "from kagglehub import  KaggleDatasetAdapter\n",
        "\n",
        "# Download latest version\n",
        "dataset_handle = \"aunanya875/suicidal-tweet-detection-dataset\"\n",
        "path = \"Suicide_Ideation_Dataset(Twitter-based).csv\"\n",
        "\n",
        "loaded_lf = kagglehub.dataset_load(\n",
        "    KaggleDatasetAdapter.POLARS,\n",
        "    dataset_handle,\n",
        "    path,\n",
        ")"
      ]
    },
    {
      "cell_type": "code",
      "source": [
        "loaded_lf.head().collect()"
      ],
      "metadata": {
        "colab": {
          "base_uri": "https://localhost:8080/",
          "height": 255
        },
        "id": "wIY7E7xTyE8Z",
        "outputId": "fb6954b0-1212-4958-92e4-f88fbf59701a"
      },
      "execution_count": 28,
      "outputs": [
        {
          "output_type": "execute_result",
          "data": {
            "text/plain": [
              "shape: (5, 2)\n",
              "┌─────────────────────────────────┬─────────────────────────┐\n",
              "│ Tweet                           ┆ Suicide                 │\n",
              "│ ---                             ┆ ---                     │\n",
              "│ str                             ┆ str                     │\n",
              "╞═════════════════════════════════╪═════════════════════════╡\n",
              "│ making some lunch               ┆ Not Suicide post        │\n",
              "│ @Alexia You want his money.     ┆ Not Suicide post        │\n",
              "│ @dizzyhrvy that crap took me f… ┆ Potential Suicide post  │\n",
              "│ @jnaylor #kiwitweets Hey Jer! … ┆ Not Suicide post        │\n",
              "│ Trying out &quot;Delicious Lib… ┆ Not Suicide post        │\n",
              "└─────────────────────────────────┴─────────────────────────┘"
            ],
            "text/html": [
              "<div><style>\n",
              ".dataframe > thead > tr,\n",
              ".dataframe > tbody > tr {\n",
              "  text-align: right;\n",
              "  white-space: pre-wrap;\n",
              "}\n",
              "</style>\n",
              "<small>shape: (5, 2)</small><table border=\"1\" class=\"dataframe\"><thead><tr><th>Tweet</th><th>Suicide</th></tr><tr><td>str</td><td>str</td></tr></thead><tbody><tr><td>&quot;making some lunch&quot;</td><td>&quot;Not Suicide post&quot;</td></tr><tr><td>&quot;@Alexia You want his money.&quot;</td><td>&quot;Not Suicide post&quot;</td></tr><tr><td>&quot;@dizzyhrvy that crap took me f…</td><td>&quot;Potential Suicide post &quot;</td></tr><tr><td>&quot;@jnaylor #kiwitweets Hey Jer! …</td><td>&quot;Not Suicide post&quot;</td></tr><tr><td>&quot;Trying out &amp;quot;Delicious Lib…</td><td>&quot;Not Suicide post&quot;</td></tr></tbody></table></div>"
            ]
          },
          "metadata": {},
          "execution_count": 28
        }
      ]
    },
    {
      "cell_type": "markdown",
      "source": [
        "# Data Preprocessing & Representation"
      ],
      "metadata": {
        "id": "HBsC2JQE04hw"
      }
    },
    {
      "cell_type": "markdown",
      "source": [
        "Null values handling"
      ],
      "metadata": {
        "id": "8oqVfCHnTgGO"
      }
    },
    {
      "cell_type": "code",
      "source": [
        "loaded_lf.null_count().collect()"
      ],
      "metadata": {
        "colab": {
          "base_uri": "https://localhost:8080/",
          "height": 129
        },
        "id": "YFq1YY3pPXPX",
        "outputId": "b0067a9b-7c55-4fbd-dedf-93935d688849"
      },
      "execution_count": 18,
      "outputs": [
        {
          "output_type": "execute_result",
          "data": {
            "text/plain": [
              "shape: (1, 2)\n",
              "┌───────┬─────────┐\n",
              "│ Tweet ┆ Suicide │\n",
              "│ ---   ┆ ---     │\n",
              "│ u32   ┆ u32     │\n",
              "╞═══════╪═════════╡\n",
              "│ 2     ┆ 0       │\n",
              "└───────┴─────────┘"
            ],
            "text/html": [
              "<div><style>\n",
              ".dataframe > thead > tr,\n",
              ".dataframe > tbody > tr {\n",
              "  text-align: right;\n",
              "  white-space: pre-wrap;\n",
              "}\n",
              "</style>\n",
              "<small>shape: (1, 2)</small><table border=\"1\" class=\"dataframe\"><thead><tr><th>Tweet</th><th>Suicide</th></tr><tr><td>u32</td><td>u32</td></tr></thead><tbody><tr><td>2</td><td>0</td></tr></tbody></table></div>"
            ]
          },
          "metadata": {},
          "execution_count": 18
        }
      ]
    },
    {
      "cell_type": "code",
      "source": [
        "non_null_lf = loaded_lf.drop_nulls()\n",
        "\n",
        "print(\"New shape:\", non_null_lf.collect().shape)"
      ],
      "metadata": {
        "colab": {
          "base_uri": "https://localhost:8080/"
        },
        "id": "65woRaL3RKcN",
        "outputId": "cdd8d681-7e6d-41ed-bad9-b30be3d37121"
      },
      "execution_count": 21,
      "outputs": [
        {
          "output_type": "stream",
          "name": "stdout",
          "text": [
            "New shape: (1785, 2)\n"
          ]
        }
      ]
    },
    {
      "cell_type": "markdown",
      "source": [
        "Tokenization"
      ],
      "metadata": {
        "id": "KzQNdOJdU5qq"
      }
    },
    {
      "cell_type": "code",
      "source": [
        "from tensorflow.keras.preprocessing.text import Tokenizer\n",
        "from tensorflow.keras.preprocessing.sequence import pad_sequences\n",
        "\n",
        "VOCAB_SIZE = 10000\n",
        "PADDED_SEQ_SIZE = 120\n",
        "OOV_TOKEN = \"<OOV>\""
      ],
      "metadata": {
        "id": "wuGi1XS6WI7u"
      },
      "execution_count": 35,
      "outputs": []
    },
    {
      "cell_type": "code",
      "source": [
        "X_col = \"Tweet\""
      ],
      "metadata": {
        "id": "fe_biZPxZCj8"
      },
      "execution_count": 37,
      "outputs": []
    },
    {
      "cell_type": "code",
      "source": [
        "tokenizer = Tokenizer(VOCAB_SIZE, oov_token=OOV_TOKEN)\n",
        "tokenizer.fit_on_texts(non_null_lf.collect()[X_col])"
      ],
      "metadata": {
        "id": "BLUh1dHYW6_U"
      },
      "execution_count": 39,
      "outputs": []
    },
    {
      "cell_type": "code",
      "source": [
        "X_seq = tokenizer.texts_to_sequences(non_null_lf.collect()[X_col])\n",
        "padded_X_seq = pad_sequences(X_seq, maxlen=PADDED_SEQ_SIZE)"
      ],
      "metadata": {
        "id": "0Kbb1R43ZI1I"
      },
      "execution_count": 40,
      "outputs": []
    },
    {
      "cell_type": "code",
      "source": [
        "non_null_lf.with_columns(\n",
        "    pl.Series(\"Tweet Sequence\", padded_X_seq),\n",
        ").head().collect()"
      ],
      "metadata": {
        "colab": {
          "base_uri": "https://localhost:8080/",
          "height": 255
        },
        "id": "5-cTPWB1aJ96",
        "outputId": "7124a026-3167-4c83-e180-76e2192872f4"
      },
      "execution_count": 51,
      "outputs": [
        {
          "output_type": "execute_result",
          "data": {
            "text/plain": [
              "shape: (5, 3)\n",
              "┌─────────────────────────────────┬─────────────────────────┬─────────────────┐\n",
              "│ Tweet                           ┆ Suicide                 ┆ Tweet Sequence  │\n",
              "│ ---                             ┆ ---                     ┆ ---             │\n",
              "│ str                             ┆ str                     ┆ array[i32, 120] │\n",
              "╞═════════════════════════════════╪═════════════════════════╪═════════════════╡\n",
              "│ making some lunch               ┆ Not Suicide post        ┆ [0, 0, … 963]   │\n",
              "│ @Alexia You want his money.     ┆ Not Suicide post        ┆ [0, 0, … 328]   │\n",
              "│ @dizzyhrvy that crap took me f… ┆ Potential Suicide post  ┆ [0, 0, … 208]   │\n",
              "│ @jnaylor #kiwitweets Hey Jer! … ┆ Not Suicide post        ┆ [0, 0, … 964]   │\n",
              "│ Trying out &quot;Delicious Lib… ┆ Not Suicide post        ┆ [0, 0, … 520]   │\n",
              "└─────────────────────────────────┴─────────────────────────┴─────────────────┘"
            ],
            "text/html": [
              "<div><style>\n",
              ".dataframe > thead > tr,\n",
              ".dataframe > tbody > tr {\n",
              "  text-align: right;\n",
              "  white-space: pre-wrap;\n",
              "}\n",
              "</style>\n",
              "<small>shape: (5, 3)</small><table border=\"1\" class=\"dataframe\"><thead><tr><th>Tweet</th><th>Suicide</th><th>Tweet Sequence</th></tr><tr><td>str</td><td>str</td><td>array[i32, 120]</td></tr></thead><tbody><tr><td>&quot;making some lunch&quot;</td><td>&quot;Not Suicide post&quot;</td><td>[0, 0, … 963]</td></tr><tr><td>&quot;@Alexia You want his money.&quot;</td><td>&quot;Not Suicide post&quot;</td><td>[0, 0, … 328]</td></tr><tr><td>&quot;@dizzyhrvy that crap took me f…</td><td>&quot;Potential Suicide post &quot;</td><td>[0, 0, … 208]</td></tr><tr><td>&quot;@jnaylor #kiwitweets Hey Jer! …</td><td>&quot;Not Suicide post&quot;</td><td>[0, 0, … 964]</td></tr><tr><td>&quot;Trying out &amp;quot;Delicious Lib…</td><td>&quot;Not Suicide post&quot;</td><td>[0, 0, … 520]</td></tr></tbody></table></div>"
            ]
          },
          "metadata": {},
          "execution_count": 51
        }
      ]
    },
    {
      "cell_type": "markdown",
      "source": [
        "Check classes balancing"
      ],
      "metadata": {
        "id": "gtjCa6x5Tteh"
      }
    },
    {
      "cell_type": "code",
      "source": [
        "y_col = \"Suicide\""
      ],
      "metadata": {
        "id": "71ikiAszNvxy"
      },
      "execution_count": 4,
      "outputs": []
    },
    {
      "cell_type": "code",
      "source": [
        "from collections import Counter\n",
        "\n",
        "label_count = Counter(non_null_lf.collect()[y_col])\n",
        "\n",
        "for index, label in enumerate(label_count):\n",
        "    print(f\"Class {index}: {label} - {label_count[label]} observations\")"
      ],
      "metadata": {
        "colab": {
          "base_uri": "https://localhost:8080/"
        },
        "id": "eYqZqX0zOiLk",
        "outputId": "5be0f4f6-ac18-4c33-c5bb-ffdb67b83ace"
      },
      "execution_count": 22,
      "outputs": [
        {
          "output_type": "stream",
          "name": "stdout",
          "text": [
            "Class 0: Not Suicide post - 1126 observations\n",
            "Class 1: Potential Suicide post  - 659 observations\n"
          ]
        }
      ]
    },
    {
      "cell_type": "markdown",
      "source": [
        "Convert `Suicide` variable to Categorical type"
      ],
      "metadata": {
        "id": "iyo4l93zM0KI"
      }
    },
    {
      "cell_type": "code",
      "source": [
        "categorical_lf = non_null_lf.with_columns(\n",
        "    pl.all().exclude(y_col),\n",
        "    pl.col(y_col).cast(pl.Categorical),\n",
        ")\n",
        "\n",
        "categorical_lf.head().collect()"
      ],
      "metadata": {
        "colab": {
          "base_uri": "https://localhost:8080/",
          "height": 255
        },
        "id": "QBzbW5c1HQOB",
        "outputId": "0698f17b-7a78-4750-bbcb-f435c2e49250"
      },
      "execution_count": 23,
      "outputs": [
        {
          "output_type": "execute_result",
          "data": {
            "text/plain": [
              "shape: (5, 2)\n",
              "┌─────────────────────────────────┬─────────────────────────┐\n",
              "│ Tweet                           ┆ Suicide                 │\n",
              "│ ---                             ┆ ---                     │\n",
              "│ str                             ┆ cat                     │\n",
              "╞═════════════════════════════════╪═════════════════════════╡\n",
              "│ making some lunch               ┆ Not Suicide post        │\n",
              "│ @Alexia You want his money.     ┆ Not Suicide post        │\n",
              "│ @dizzyhrvy that crap took me f… ┆ Potential Suicide post  │\n",
              "│ @jnaylor #kiwitweets Hey Jer! … ┆ Not Suicide post        │\n",
              "│ Trying out &quot;Delicious Lib… ┆ Not Suicide post        │\n",
              "└─────────────────────────────────┴─────────────────────────┘"
            ],
            "text/html": [
              "<div><style>\n",
              ".dataframe > thead > tr,\n",
              ".dataframe > tbody > tr {\n",
              "  text-align: right;\n",
              "  white-space: pre-wrap;\n",
              "}\n",
              "</style>\n",
              "<small>shape: (5, 2)</small><table border=\"1\" class=\"dataframe\"><thead><tr><th>Tweet</th><th>Suicide</th></tr><tr><td>str</td><td>cat</td></tr></thead><tbody><tr><td>&quot;making some lunch&quot;</td><td>&quot;Not Suicide post&quot;</td></tr><tr><td>&quot;@Alexia You want his money.&quot;</td><td>&quot;Not Suicide post&quot;</td></tr><tr><td>&quot;@dizzyhrvy that crap took me f…</td><td>&quot;Potential Suicide post &quot;</td></tr><tr><td>&quot;@jnaylor #kiwitweets Hey Jer! …</td><td>&quot;Not Suicide post&quot;</td></tr><tr><td>&quot;Trying out &amp;quot;Delicious Lib…</td><td>&quot;Not Suicide post&quot;</td></tr></tbody></table></div>"
            ]
          },
          "metadata": {},
          "execution_count": 23
        }
      ]
    },
    {
      "cell_type": "code",
      "source": [
        "labels = categorical_lf.select(\n",
        "    pl.col(y_col).cat.get_categories()\n",
        ").collect()[y_col].to_list()\n",
        "\n",
        "labels"
      ],
      "metadata": {
        "colab": {
          "base_uri": "https://localhost:8080/"
        },
        "id": "ki504mYtF8ml",
        "outputId": "45736073-7bd6-44ad-e014-e0fed16175bb"
      },
      "execution_count": 24,
      "outputs": [
        {
          "output_type": "execute_result",
          "data": {
            "text/plain": [
              "['Not Suicide post', 'Potential Suicide post ']"
            ]
          },
          "metadata": {},
          "execution_count": 24
        }
      ]
    },
    {
      "cell_type": "code",
      "source": [
        "physical_categorical_lf = categorical_lf.select(\n",
        "    pl.all().exclude(y_col),\n",
        "    pl.col(y_col).to_physical(),\n",
        ")\n",
        "\n",
        "physical_categorical_lf.head().collect()"
      ],
      "metadata": {
        "colab": {
          "base_uri": "https://localhost:8080/",
          "height": 255
        },
        "id": "7I4FDCWqH9kZ",
        "outputId": "84a2f909-b79d-470c-e7af-62c75326b44c"
      },
      "execution_count": 30,
      "outputs": [
        {
          "output_type": "execute_result",
          "data": {
            "text/plain": [
              "shape: (5, 2)\n",
              "┌─────────────────────────────────┬─────────┐\n",
              "│ Tweet                           ┆ Suicide │\n",
              "│ ---                             ┆ ---     │\n",
              "│ str                             ┆ u32     │\n",
              "╞═════════════════════════════════╪═════════╡\n",
              "│ making some lunch               ┆ 0       │\n",
              "│ @Alexia You want his money.     ┆ 0       │\n",
              "│ @dizzyhrvy that crap took me f… ┆ 1       │\n",
              "│ @jnaylor #kiwitweets Hey Jer! … ┆ 0       │\n",
              "│ Trying out &quot;Delicious Lib… ┆ 0       │\n",
              "└─────────────────────────────────┴─────────┘"
            ],
            "text/html": [
              "<div><style>\n",
              ".dataframe > thead > tr,\n",
              ".dataframe > tbody > tr {\n",
              "  text-align: right;\n",
              "  white-space: pre-wrap;\n",
              "}\n",
              "</style>\n",
              "<small>shape: (5, 2)</small><table border=\"1\" class=\"dataframe\"><thead><tr><th>Tweet</th><th>Suicide</th></tr><tr><td>str</td><td>u32</td></tr></thead><tbody><tr><td>&quot;making some lunch&quot;</td><td>0</td></tr><tr><td>&quot;@Alexia You want his money.&quot;</td><td>0</td></tr><tr><td>&quot;@dizzyhrvy that crap took me f…</td><td>1</td></tr><tr><td>&quot;@jnaylor #kiwitweets Hey Jer! …</td><td>0</td></tr><tr><td>&quot;Trying out &amp;quot;Delicious Lib…</td><td>0</td></tr></tbody></table></div>"
            ]
          },
          "metadata": {},
          "execution_count": 30
        }
      ]
    },
    {
      "cell_type": "markdown",
      "source": [
        "One Hot Encoding"
      ],
      "metadata": {
        "id": "qh3-IA6KTX78"
      }
    },
    {
      "cell_type": "code",
      "source": [
        "from tensorflow.keras.utils import to_categorical\n",
        "\n",
        "X = padded_X_seq\n",
        "y = to_categorical(physical_categorical_lf.select(y_col).collect())\n",
        "\n",
        "X.shape, y.shape"
      ],
      "metadata": {
        "colab": {
          "base_uri": "https://localhost:8080/"
        },
        "id": "LRGSCCLc2R2s",
        "outputId": "32e5cfc9-c4be-4c63-e5dd-5c0d69e09ab4"
      },
      "execution_count": 48,
      "outputs": [
        {
          "output_type": "execute_result",
          "data": {
            "text/plain": [
              "((1785, 120), (1785, 2))"
            ]
          },
          "metadata": {},
          "execution_count": 48
        }
      ]
    },
    {
      "cell_type": "markdown",
      "source": [
        "Train - Test Split"
      ],
      "metadata": {
        "id": "NuSsmmSZMvxd"
      }
    },
    {
      "cell_type": "code",
      "source": [
        "from sklearn.model_selection import train_test_split\n",
        "\n",
        "X_train, X_test, y_train, y_test = train_test_split(X, y, test_size=0.2, random_state=42)\n",
        "\n",
        "print(\"Train dataset shape:\", X_train.shape, y_train.shape)\n",
        "print(\"Test dataset shape:\", X_test.shape, y_test.shape)"
      ],
      "metadata": {
        "colab": {
          "base_uri": "https://localhost:8080/"
        },
        "id": "NwcWWp5iKvae",
        "outputId": "c3a3c767-b99a-424a-a624-18f2ddbd2031"
      },
      "execution_count": 49,
      "outputs": [
        {
          "output_type": "stream",
          "name": "stdout",
          "text": [
            "Train dataset shape: (1428, 120) (1428, 2)\n",
            "Test dataset shape: (357, 120) (357, 2)\n"
          ]
        }
      ]
    },
    {
      "cell_type": "markdown",
      "source": [
        "# Modelization"
      ],
      "metadata": {
        "id": "cQM_RvhXLSdp"
      }
    },
    {
      "cell_type": "code",
      "source": [
        "from tensorflow.keras.models import Model\n",
        "from tensorflow.keras.layers import Attention, Dense, Embedding, GlobalAveragePooling1D, Input, LSTM"
      ],
      "metadata": {
        "id": "cON8Ur0gLUU5"
      },
      "execution_count": 428,
      "outputs": []
    },
    {
      "cell_type": "markdown",
      "source": [
        "Model Hyperparameters"
      ],
      "metadata": {
        "id": "Mk2fnOWNs0r9"
      }
    },
    {
      "cell_type": "code",
      "source": [
        "embedding_dim = 64\n",
        "dense_1_n_units = 128\n",
        "outputs_dim = len(labels)"
      ],
      "metadata": {
        "id": "5Qi63tGXg26z"
      },
      "execution_count": 429,
      "outputs": []
    },
    {
      "cell_type": "markdown",
      "source": [
        "Model layers"
      ],
      "metadata": {
        "id": "dZx4V_FEsy0X"
      }
    },
    {
      "cell_type": "code",
      "source": [
        "inputs = Input((PADDED_SEQ_SIZE,))\n",
        "embedding = Embedding(VOCAB_SIZE, embedding_dim)(inputs)\n",
        "\n",
        "encoder = LSTM(embedding_dim, return_sequences=True)(embedding)\n",
        "attention = Attention()([encoder, encoder])\n",
        "pooling = GlobalAveragePooling1D()(attention)\n",
        "\n",
        "dense_1 = Dense(dense_1_n_units)(pooling)\n",
        "outputs = Dense(outputs_dim, activation=\"softmax\")(dense_1)"
      ],
      "metadata": {
        "id": "8I-ZcquKbcoq"
      },
      "execution_count": 430,
      "outputs": []
    },
    {
      "cell_type": "markdown",
      "source": [
        "Create Model"
      ],
      "metadata": {
        "id": "r6Eie0_4s3xG"
      }
    },
    {
      "cell_type": "code",
      "source": [
        "suicidal_tweet_detector = Model(inputs, outputs)\n",
        "suicidal_tweet_detector.summary()"
      ],
      "metadata": {
        "colab": {
          "base_uri": "https://localhost:8080/",
          "height": 417
        },
        "id": "fo38FzVmq16I",
        "outputId": "aecea03c-8c13-4d89-d5ce-8c30d0326d2a"
      },
      "execution_count": 431,
      "outputs": [
        {
          "output_type": "display_data",
          "data": {
            "text/plain": [
              "\u001b[1mModel: \"functional_48\"\u001b[0m\n"
            ],
            "text/html": [
              "<pre style=\"white-space:pre;overflow-x:auto;line-height:normal;font-family:Menlo,'DejaVu Sans Mono',consolas,'Courier New',monospace\"><span style=\"font-weight: bold\">Model: \"functional_48\"</span>\n",
              "</pre>\n"
            ]
          },
          "metadata": {}
        },
        {
          "output_type": "display_data",
          "data": {
            "text/plain": [
              "┏━━━━━━━━━━━━━━━━━━━━━┳━━━━━━━━━━━━━━━━━━━┳━━━━━━━━━━━━┳━━━━━━━━━━━━━━━━━━━┓\n",
              "┃\u001b[1m \u001b[0m\u001b[1mLayer (type)       \u001b[0m\u001b[1m \u001b[0m┃\u001b[1m \u001b[0m\u001b[1mOutput Shape     \u001b[0m\u001b[1m \u001b[0m┃\u001b[1m \u001b[0m\u001b[1m   Param #\u001b[0m\u001b[1m \u001b[0m┃\u001b[1m \u001b[0m\u001b[1mConnected to     \u001b[0m\u001b[1m \u001b[0m┃\n",
              "┡━━━━━━━━━━━━━━━━━━━━━╇━━━━━━━━━━━━━━━━━━━╇━━━━━━━━━━━━╇━━━━━━━━━━━━━━━━━━━┩\n",
              "│ input_layer_72      │ (\u001b[38;5;45mNone\u001b[0m, \u001b[38;5;34m120\u001b[0m)       │          \u001b[38;5;34m0\u001b[0m │ -                 │\n",
              "│ (\u001b[38;5;33mInputLayer\u001b[0m)        │                   │            │                   │\n",
              "├─────────────────────┼───────────────────┼────────────┼───────────────────┤\n",
              "│ embedding_72        │ (\u001b[38;5;45mNone\u001b[0m, \u001b[38;5;34m120\u001b[0m, \u001b[38;5;34m64\u001b[0m)   │    \u001b[38;5;34m640,000\u001b[0m │ input_layer_72[\u001b[38;5;34m0\u001b[0m… │\n",
              "│ (\u001b[38;5;33mEmbedding\u001b[0m)         │                   │            │                   │\n",
              "├─────────────────────┼───────────────────┼────────────┼───────────────────┤\n",
              "│ lstm_52 (\u001b[38;5;33mLSTM\u001b[0m)      │ (\u001b[38;5;45mNone\u001b[0m, \u001b[38;5;34m120\u001b[0m, \u001b[38;5;34m64\u001b[0m)   │     \u001b[38;5;34m33,024\u001b[0m │ embedding_72[\u001b[38;5;34m0\u001b[0m][\u001b[38;5;34m…\u001b[0m │\n",
              "├─────────────────────┼───────────────────┼────────────┼───────────────────┤\n",
              "│ attention_78        │ (\u001b[38;5;45mNone\u001b[0m, \u001b[38;5;34m120\u001b[0m, \u001b[38;5;34m64\u001b[0m)   │          \u001b[38;5;34m0\u001b[0m │ lstm_52[\u001b[38;5;34m0\u001b[0m][\u001b[38;5;34m0\u001b[0m],    │\n",
              "│ (\u001b[38;5;33mAttention\u001b[0m)         │                   │            │ lstm_52[\u001b[38;5;34m0\u001b[0m][\u001b[38;5;34m0\u001b[0m]     │\n",
              "├─────────────────────┼───────────────────┼────────────┼───────────────────┤\n",
              "│ global_average_poo… │ (\u001b[38;5;45mNone\u001b[0m, \u001b[38;5;34m64\u001b[0m)        │          \u001b[38;5;34m0\u001b[0m │ attention_78[\u001b[38;5;34m0\u001b[0m][\u001b[38;5;34m…\u001b[0m │\n",
              "│ (\u001b[38;5;33mGlobalAveragePool…\u001b[0m │                   │            │                   │\n",
              "├─────────────────────┼───────────────────┼────────────┼───────────────────┤\n",
              "│ dense_120 (\u001b[38;5;33mDense\u001b[0m)   │ (\u001b[38;5;45mNone\u001b[0m, \u001b[38;5;34m128\u001b[0m)       │      \u001b[38;5;34m8,320\u001b[0m │ global_average_p… │\n",
              "├─────────────────────┼───────────────────┼────────────┼───────────────────┤\n",
              "│ dense_121 (\u001b[38;5;33mDense\u001b[0m)   │ (\u001b[38;5;45mNone\u001b[0m, \u001b[38;5;34m2\u001b[0m)         │        \u001b[38;5;34m258\u001b[0m │ dense_120[\u001b[38;5;34m0\u001b[0m][\u001b[38;5;34m0\u001b[0m]   │\n",
              "└─────────────────────┴───────────────────┴────────────┴───────────────────┘\n"
            ],
            "text/html": [
              "<pre style=\"white-space:pre;overflow-x:auto;line-height:normal;font-family:Menlo,'DejaVu Sans Mono',consolas,'Courier New',monospace\">┏━━━━━━━━━━━━━━━━━━━━━┳━━━━━━━━━━━━━━━━━━━┳━━━━━━━━━━━━┳━━━━━━━━━━━━━━━━━━━┓\n",
              "┃<span style=\"font-weight: bold\"> Layer (type)        </span>┃<span style=\"font-weight: bold\"> Output Shape      </span>┃<span style=\"font-weight: bold\">    Param # </span>┃<span style=\"font-weight: bold\"> Connected to      </span>┃\n",
              "┡━━━━━━━━━━━━━━━━━━━━━╇━━━━━━━━━━━━━━━━━━━╇━━━━━━━━━━━━╇━━━━━━━━━━━━━━━━━━━┩\n",
              "│ input_layer_72      │ (<span style=\"color: #00d7ff; text-decoration-color: #00d7ff\">None</span>, <span style=\"color: #00af00; text-decoration-color: #00af00\">120</span>)       │          <span style=\"color: #00af00; text-decoration-color: #00af00\">0</span> │ -                 │\n",
              "│ (<span style=\"color: #0087ff; text-decoration-color: #0087ff\">InputLayer</span>)        │                   │            │                   │\n",
              "├─────────────────────┼───────────────────┼────────────┼───────────────────┤\n",
              "│ embedding_72        │ (<span style=\"color: #00d7ff; text-decoration-color: #00d7ff\">None</span>, <span style=\"color: #00af00; text-decoration-color: #00af00\">120</span>, <span style=\"color: #00af00; text-decoration-color: #00af00\">64</span>)   │    <span style=\"color: #00af00; text-decoration-color: #00af00\">640,000</span> │ input_layer_72[<span style=\"color: #00af00; text-decoration-color: #00af00\">0</span>… │\n",
              "│ (<span style=\"color: #0087ff; text-decoration-color: #0087ff\">Embedding</span>)         │                   │            │                   │\n",
              "├─────────────────────┼───────────────────┼────────────┼───────────────────┤\n",
              "│ lstm_52 (<span style=\"color: #0087ff; text-decoration-color: #0087ff\">LSTM</span>)      │ (<span style=\"color: #00d7ff; text-decoration-color: #00d7ff\">None</span>, <span style=\"color: #00af00; text-decoration-color: #00af00\">120</span>, <span style=\"color: #00af00; text-decoration-color: #00af00\">64</span>)   │     <span style=\"color: #00af00; text-decoration-color: #00af00\">33,024</span> │ embedding_72[<span style=\"color: #00af00; text-decoration-color: #00af00\">0</span>][<span style=\"color: #00af00; text-decoration-color: #00af00\">…</span> │\n",
              "├─────────────────────┼───────────────────┼────────────┼───────────────────┤\n",
              "│ attention_78        │ (<span style=\"color: #00d7ff; text-decoration-color: #00d7ff\">None</span>, <span style=\"color: #00af00; text-decoration-color: #00af00\">120</span>, <span style=\"color: #00af00; text-decoration-color: #00af00\">64</span>)   │          <span style=\"color: #00af00; text-decoration-color: #00af00\">0</span> │ lstm_52[<span style=\"color: #00af00; text-decoration-color: #00af00\">0</span>][<span style=\"color: #00af00; text-decoration-color: #00af00\">0</span>],    │\n",
              "│ (<span style=\"color: #0087ff; text-decoration-color: #0087ff\">Attention</span>)         │                   │            │ lstm_52[<span style=\"color: #00af00; text-decoration-color: #00af00\">0</span>][<span style=\"color: #00af00; text-decoration-color: #00af00\">0</span>]     │\n",
              "├─────────────────────┼───────────────────┼────────────┼───────────────────┤\n",
              "│ global_average_poo… │ (<span style=\"color: #00d7ff; text-decoration-color: #00d7ff\">None</span>, <span style=\"color: #00af00; text-decoration-color: #00af00\">64</span>)        │          <span style=\"color: #00af00; text-decoration-color: #00af00\">0</span> │ attention_78[<span style=\"color: #00af00; text-decoration-color: #00af00\">0</span>][<span style=\"color: #00af00; text-decoration-color: #00af00\">…</span> │\n",
              "│ (<span style=\"color: #0087ff; text-decoration-color: #0087ff\">GlobalAveragePool…</span> │                   │            │                   │\n",
              "├─────────────────────┼───────────────────┼────────────┼───────────────────┤\n",
              "│ dense_120 (<span style=\"color: #0087ff; text-decoration-color: #0087ff\">Dense</span>)   │ (<span style=\"color: #00d7ff; text-decoration-color: #00d7ff\">None</span>, <span style=\"color: #00af00; text-decoration-color: #00af00\">128</span>)       │      <span style=\"color: #00af00; text-decoration-color: #00af00\">8,320</span> │ global_average_p… │\n",
              "├─────────────────────┼───────────────────┼────────────┼───────────────────┤\n",
              "│ dense_121 (<span style=\"color: #0087ff; text-decoration-color: #0087ff\">Dense</span>)   │ (<span style=\"color: #00d7ff; text-decoration-color: #00d7ff\">None</span>, <span style=\"color: #00af00; text-decoration-color: #00af00\">2</span>)         │        <span style=\"color: #00af00; text-decoration-color: #00af00\">258</span> │ dense_120[<span style=\"color: #00af00; text-decoration-color: #00af00\">0</span>][<span style=\"color: #00af00; text-decoration-color: #00af00\">0</span>]   │\n",
              "└─────────────────────┴───────────────────┴────────────┴───────────────────┘\n",
              "</pre>\n"
            ]
          },
          "metadata": {}
        },
        {
          "output_type": "display_data",
          "data": {
            "text/plain": [
              "\u001b[1m Total params: \u001b[0m\u001b[38;5;34m681,602\u001b[0m (2.60 MB)\n"
            ],
            "text/html": [
              "<pre style=\"white-space:pre;overflow-x:auto;line-height:normal;font-family:Menlo,'DejaVu Sans Mono',consolas,'Courier New',monospace\"><span style=\"font-weight: bold\"> Total params: </span><span style=\"color: #00af00; text-decoration-color: #00af00\">681,602</span> (2.60 MB)\n",
              "</pre>\n"
            ]
          },
          "metadata": {}
        },
        {
          "output_type": "display_data",
          "data": {
            "text/plain": [
              "\u001b[1m Trainable params: \u001b[0m\u001b[38;5;34m681,602\u001b[0m (2.60 MB)\n"
            ],
            "text/html": [
              "<pre style=\"white-space:pre;overflow-x:auto;line-height:normal;font-family:Menlo,'DejaVu Sans Mono',consolas,'Courier New',monospace\"><span style=\"font-weight: bold\"> Trainable params: </span><span style=\"color: #00af00; text-decoration-color: #00af00\">681,602</span> (2.60 MB)\n",
              "</pre>\n"
            ]
          },
          "metadata": {}
        },
        {
          "output_type": "display_data",
          "data": {
            "text/plain": [
              "\u001b[1m Non-trainable params: \u001b[0m\u001b[38;5;34m0\u001b[0m (0.00 B)\n"
            ],
            "text/html": [
              "<pre style=\"white-space:pre;overflow-x:auto;line-height:normal;font-family:Menlo,'DejaVu Sans Mono',consolas,'Courier New',monospace\"><span style=\"font-weight: bold\"> Non-trainable params: </span><span style=\"color: #00af00; text-decoration-color: #00af00\">0</span> (0.00 B)\n",
              "</pre>\n"
            ]
          },
          "metadata": {}
        }
      ]
    },
    {
      "cell_type": "markdown",
      "source": [
        "Compile Model"
      ],
      "metadata": {
        "id": "WuZC0uRms6hQ"
      }
    },
    {
      "cell_type": "code",
      "source": [
        "suicidal_tweet_detector.compile(\n",
        "    optimizer=\"adam\",\n",
        "    loss=\"categorical_crossentropy\",\n",
        "    metrics=[\n",
        "        \"accuracy\",\n",
        "    ],\n",
        ")"
      ],
      "metadata": {
        "id": "l5l7htqgs759"
      },
      "execution_count": 432,
      "outputs": []
    },
    {
      "cell_type": "markdown",
      "source": [
        "Training parameters"
      ],
      "metadata": {
        "id": "IwEGqDxvt4Qu"
      }
    },
    {
      "cell_type": "code",
      "source": [
        "n_epochs = 5\n",
        "training_batch_size = 32\n",
        "validation_split = 0.1"
      ],
      "metadata": {
        "id": "pAAUDhFVt9vB"
      },
      "execution_count": 433,
      "outputs": []
    },
    {
      "cell_type": "markdown",
      "source": [
        "Train model"
      ],
      "metadata": {
        "id": "oABEtpgOuXQ-"
      }
    },
    {
      "cell_type": "code",
      "source": [
        "history = suicidal_tweet_detector.fit(X_train, y_train, epochs=n_epochs, batch_size=training_batch_size, validation_split=validation_split)"
      ],
      "metadata": {
        "colab": {
          "base_uri": "https://localhost:8080/"
        },
        "id": "2m-oYE_EuZGC",
        "outputId": "b1f38791-f7cc-4d53-95a6-3d3be3cb3c11"
      },
      "execution_count": 434,
      "outputs": [
        {
          "output_type": "stream",
          "name": "stdout",
          "text": [
            "Epoch 1/5\n",
            "\u001b[1m41/41\u001b[0m \u001b[32m━━━━━━━━━━━━━━━━━━━━\u001b[0m\u001b[37m\u001b[0m \u001b[1m6s\u001b[0m 73ms/step - accuracy: 0.6346 - loss: 0.6492 - val_accuracy: 0.6364 - val_loss: 0.6492\n",
            "Epoch 2/5\n",
            "\u001b[1m41/41\u001b[0m \u001b[32m━━━━━━━━━━━━━━━━━━━━\u001b[0m\u001b[37m\u001b[0m \u001b[1m2s\u001b[0m 56ms/step - accuracy: 0.6625 - loss: 0.6308 - val_accuracy: 0.7762 - val_loss: 0.4721\n",
            "Epoch 3/5\n",
            "\u001b[1m41/41\u001b[0m \u001b[32m━━━━━━━━━━━━━━━━━━━━\u001b[0m\u001b[37m\u001b[0m \u001b[1m2s\u001b[0m 57ms/step - accuracy: 0.8198 - loss: 0.4458 - val_accuracy: 0.8531 - val_loss: 0.3807\n",
            "Epoch 4/5\n",
            "\u001b[1m41/41\u001b[0m \u001b[32m━━━━━━━━━━━━━━━━━━━━\u001b[0m\u001b[37m\u001b[0m \u001b[1m2s\u001b[0m 56ms/step - accuracy: 0.8865 - loss: 0.2985 - val_accuracy: 0.9091 - val_loss: 0.2479\n",
            "Epoch 5/5\n",
            "\u001b[1m41/41\u001b[0m \u001b[32m━━━━━━━━━━━━━━━━━━━━\u001b[0m\u001b[37m\u001b[0m \u001b[1m3s\u001b[0m 57ms/step - accuracy: 0.9118 - loss: 0.2416 - val_accuracy: 0.9301 - val_loss: 0.2055\n"
          ]
        }
      ]
    },
    {
      "cell_type": "code",
      "source": [
        "plt.figure(figsize=(12, 6))\n",
        "\n",
        "plt.subplot(1, 2, 1)\n",
        "plt.plot(history.history[\"accuracy\"], label=\"Train\")\n",
        "plt.plot(history.history[\"val_accuracy\"], label=\"Validation\")\n",
        "plt.legend()\n",
        "plt.xlabel(\"Epoch\")\n",
        "plt.ylabel(\"Accuracy\")\n",
        "plt.title(\"Model Accuracy\")\n",
        "\n",
        "plt.subplot(1, 2, 2)\n",
        "plt.plot(history.history[\"loss\"], label=\"Train\")\n",
        "plt.plot(history.history[\"val_loss\"], label=\"Validation\")\n",
        "plt.legend()\n",
        "plt.xlabel(\"Epoch\")\n",
        "plt.ylabel(\"Loss\")\n",
        "plt.title(\"Model Loss\")\n",
        "\n",
        "plt.show()"
      ],
      "metadata": {
        "colab": {
          "base_uri": "https://localhost:8080/",
          "height": 564
        },
        "id": "D_kwgoppzIPS",
        "outputId": "408d2d65-958e-439a-bea1-54fff0ec6726"
      },
      "execution_count": 435,
      "outputs": [
        {
          "output_type": "display_data",
          "data": {
            "text/plain": [
              "<Figure size 1200x600 with 2 Axes>"
            ],
            "image/png": "[encoded data removed]"
          },
          "metadata": {}
        }
      ]
    },
    {
      "cell_type": "markdown",
      "source": [
        "Evaluate model"
      ],
      "metadata": {
        "id": "8zxVfWefAaKR"
      }
    },
    {
      "cell_type": "code",
      "source": [
        "loss, accuracy = suicidal_tweet_detector.evaluate(X_test, y_test, verbose=0)\n",
        "\n",
        "print(f'Test Loss: {loss}')\n",
        "print(f'Test Accuracy: {accuracy}')"
      ],
      "metadata": {
        "colab": {
          "base_uri": "https://localhost:8080/"
        },
        "id": "GtcqhN8NBkeU",
        "outputId": "621b3b8e-fd8a-4c1b-819e-5fda90963e8c"
      },
      "execution_count": 436,
      "outputs": [
        {
          "output_type": "stream",
          "name": "stdout",
          "text": [
            "Test Loss: 0.25323450565338135\n",
            "Test Accuracy: 0.9047619104385376\n"
          ]
        }
      ]
    },
    {
      "cell_type": "code",
      "source": [
        "y_pred = suicidal_tweet_detector.predict(X_test)"
      ],
      "metadata": {
        "colab": {
          "base_uri": "https://localhost:8080/"
        },
        "id": "lMYrkrDjAcIU",
        "outputId": "5293d336-37ae-4ff6-e920-80a0f767efcb"
      },
      "execution_count": 448,
      "outputs": [
        {
          "output_type": "stream",
          "name": "stdout",
          "text": [
            "\u001b[1m12/12\u001b[0m \u001b[32m━━━━━━━━━━━━━━━━━━━━\u001b[0m\u001b[37m\u001b[0m \u001b[1m0s\u001b[0m 19ms/step\n"
          ]
        }
      ]
    },
    {
      "cell_type": "code",
      "source": [
        "expected = np.argmax(y_test, axis=1)\n",
        "predicted = np.argmax(y_pred, axis=1)"
      ],
      "metadata": {
        "id": "03xGn2iQApF7"
      },
      "execution_count": 449,
      "outputs": []
    },
    {
      "cell_type": "code",
      "source": [
        "from sklearn.metrics import f1_score\n",
        "\n",
        "score = f1_score(expected, predicted)\n",
        "print(\"F1 Score:\", score)"
      ],
      "metadata": {
        "colab": {
          "base_uri": "https://localhost:8080/"
        },
        "id": "zBurZ9pEBFLZ",
        "outputId": "b8664239-46ac-4eef-ad9c-1e9d0d5cc107"
      },
      "execution_count": 450,
      "outputs": [
        {
          "output_type": "stream",
          "name": "stdout",
          "text": [
            "F1 Score: 0.8776978417266187\n"
          ]
        }
      ]
    },
    {
      "cell_type": "code",
      "source": [
        "from sklearn.metrics import ConfusionMatrixDisplay\n",
        "\n",
        "ConfusionMatrixDisplay.from_predictions(expected, predicted, display_labels=labels)\n",
        "plt.show()"
      ],
      "metadata": {
        "colab": {
          "base_uri": "https://localhost:8080/",
          "height": 453
        },
        "id": "1RDV1uRgCOfq",
        "outputId": "2ec3ecca-3448-44fd-a028-56a07cedef54"
      },
      "execution_count": 451,
      "outputs": [
        {
          "output_type": "display_data",
          "data": {
            "text/plain": [
              "<Figure size 640x480 with 2 Axes>"
            ],
            "image/png": "[encoded data removed]"
          },
          "metadata": {}
        }
      ]
    },
    {
      "cell_type": "code",
      "source": [
        "from sklearn.metrics import classification_report\n",
        "\n",
        "print(\"Classification Report:\")\n",
        "print(classification_report(expected, predicted, target_names=labels))"
      ],
      "metadata": {
        "colab": {
          "base_uri": "https://localhost:8080/"
        },
        "id": "l22WfopLGy2K",
        "outputId": "1e40cda9-9de2-4a7e-8843-49e9c13c6305"
      },
      "execution_count": 447,
      "outputs": [
        {
          "output_type": "stream",
          "name": "stdout",
          "text": [
            "Classification Report:\n",
            "                         precision    recall  f1-score   support\n",
            "\n",
            "       Not Suicide post       0.91      0.93      0.92       216\n",
            "Potential Suicide post        0.89      0.87      0.88       141\n",
            "\n",
            "               accuracy                           0.90       357\n",
            "              macro avg       0.90      0.90      0.90       357\n",
            "           weighted avg       0.90      0.90      0.90       357\n",
            "\n"
          ]
        }
      ]
    },
    {
      "cell_type": "markdown",
      "source": [
        "Remarque :\n",
        "\n",
        "Le modèle privilégie les faux négatifs aux faux positifs. Ceci constitue un défaut au vu du risque de considérer plus de cas suicidaires comme non suicidaires au lieu de l'inverse.\n",
        "\n",
        "Ceci peut être dû au manque d'équilibre entre les classes dans le jeu de données."
      ],
      "metadata": {
        "id": "xE1dJHG3Vpts"
      }
    },
    {
      "cell_type": "markdown",
      "source": [
        "# Model Saving"
      ],
      "metadata": {
        "id": "7AChpCEgEHwP"
      }
    },
    {
      "cell_type": "markdown",
      "source": [
        "Setup backup path"
      ],
      "metadata": {
        "id": "w6uiIr6bGAwJ"
      }
    },
    {
      "cell_type": "code",
      "source": [
        "base_folder_path = \"/gdrive/MyDrive/ESTIAM/E5/AI-ML-Model-Design/\"\n",
        "backup_folder_path = f\"{base_folder_path}/Exam-Model-Backup\"\n",
        "model_file_path = f\"{backup_folder_path}/suicidal_tweet_detector.keras\"\n",
        "tokenizer_file_path = f\"{backup_folder_path}/tokenizer.json\""
      ],
      "metadata": {
        "id": "TNKhuYKzEPpj"
      },
      "execution_count": 441,
      "outputs": []
    },
    {
      "cell_type": "code",
      "source": [
        "from google.colab import drive\n",
        "drive.mount('/gdrive')\n",
        "\n",
        "!mkdir -p {backup_folder_path}"
      ],
      "metadata": {
        "colab": {
          "base_uri": "https://localhost:8080/"
        },
        "id": "oVdmZX9cFusm",
        "outputId": "e9b021b1-b4aa-4de1-e863-622db50ca9c7"
      },
      "execution_count": 442,
      "outputs": [
        {
          "output_type": "stream",
          "name": "stdout",
          "text": [
            "Mounted at /gdrive\n"
          ]
        }
      ]
    },
    {
      "cell_type": "markdown",
      "source": [
        "Save tokenizer (Representation)"
      ],
      "metadata": {
        "id": "KH5NOCWNGFcE"
      }
    },
    {
      "cell_type": "code",
      "source": [
        "import json\n",
        "\n",
        "with open(tokenizer_file_path, \"w\") as tokenizer_file:\n",
        "    tokenizer_json = tokenizer.to_json()\n",
        "    tokenizer_file.write(json.dumps(tokenizer_json, indent=2))"
      ],
      "metadata": {
        "id": "A2hXXdqVFP_d"
      },
      "execution_count": 443,
      "outputs": []
    },
    {
      "cell_type": "markdown",
      "source": [
        "Save model"
      ],
      "metadata": {
        "id": "HFZTYYM0GaWR"
      }
    },
    {
      "cell_type": "code",
      "source": [
        "import tensorflow as tf\n",
        "\n",
        "suicidal_tweet_detector.save(model_file_path)"
      ],
      "metadata": {
        "id": "O_me4Uw5F_jQ"
      },
      "execution_count": 444,
      "outputs": []
    },
    {
      "cell_type": "code",
      "source": [
        "!ls {backup_folder_path}"
      ],
      "metadata": {
        "colab": {
          "base_uri": "https://localhost:8080/"
        },
        "id": "oWOWMUwPGr-w",
        "outputId": "9b94ddc2-9faa-4a7d-8889-5aa7cc0e1399"
      },
      "execution_count": 445,
      "outputs": [
        {
          "output_type": "stream",
          "name": "stdout",
          "text": [
            "suicidal_tweet_detector.keras  tokenizer.json\n"
          ]
        }
      ]
    }
  ]
}